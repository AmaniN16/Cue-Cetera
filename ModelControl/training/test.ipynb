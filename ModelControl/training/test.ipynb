{
 "cells": [
  {
   "cell_type": "markdown",
   "id": "cdac7b52",
   "metadata": {},
   "source": [
    "# Test Notebook for Model 3"
   ]
  },
  {
   "cell_type": "code",
   "execution_count": 14,
   "id": "33e7d750",
   "metadata": {},
   "outputs": [
    {
     "data": {
      "text/plain": [
       "((10493, 48, 48, 3), (10493,))"
      ]
     },
     "execution_count": 14,
     "metadata": {},
     "output_type": "execute_result"
    }
   ],
   "source": [
    "import tensorflow as tf\n",
    "from tensorflow import keras\n",
    "import numpy as np\n",
    "import matplotlib.pyplot as plt\n",
    "import pandas as pd\n",
    "from PIL import Image\n",
    "import cv2 \n",
    "import os\n",
    "emotions_list = ['Affection', 'Anger', 'Annoyance','Anticipation', 'Aversion',\n",
    "                'Confidence', 'Disapproval', 'Disconnection', 'Disquietment', \n",
    "                'Doubt/Confusion', 'Embarrassment', 'Engagement', 'Esteem', \n",
    "                'Excitement', 'Fatigue', 'Fear', 'Happiness','Pain', 'Peace',\n",
    "                'Pleasure','Sadness', 'Sensitivity', 'Suffering', 'Surprise',\n",
    "                'Sympathy', 'Yearning', 'Disgust', 'Neutral']\n",
    "\n",
    "# load test set and labels\n",
    "X_test = np.load('datasets/test_data.npy')\n",
    "t_test = np.load('datasets/test_labels.npy')\n",
    "\n",
    "X_test.shape, t_test.shape"
   ]
  },
  {
   "cell_type": "code",
   "execution_count": 15,
   "id": "982b0909",
   "metadata": {},
   "outputs": [],
   "source": [
    "#X_test = tf.keras.applications.mobilenet_v2.preprocess_input(X_test)"
   ]
  },
  {
   "cell_type": "code",
   "execution_count": 16,
   "id": "cb404f33",
   "metadata": {},
   "outputs": [
    {
     "name": "stdout",
     "output_type": "stream",
     "text": [
      "Keras model archive loading:\n",
      "File Name                                             Modified             Size\n",
      "config.json                                    2023-04-15 03:51:36        13226\n",
      "metadata.json                                  2023-04-15 03:51:36           64\n",
      "variables.h5                                   2023-04-15 03:51:36     39275128\n",
      "Keras weights file (<HDF5 file \"variables.h5\" (mode r)>) loading:\n",
      "...layers\\batch_normalization\n",
      "......vars\n",
      ".........0\n",
      ".........1\n",
      ".........2\n",
      ".........3\n",
      "...layers\\batch_normalization_1\n",
      "......vars\n",
      ".........0\n",
      ".........1\n",
      ".........2\n",
      ".........3\n",
      "...layers\\batch_normalization_2\n",
      "......vars\n",
      ".........0\n",
      ".........1\n",
      ".........2\n",
      ".........3\n",
      "...layers\\batch_normalization_3\n",
      "......vars\n",
      ".........0\n",
      ".........1\n",
      ".........2\n",
      ".........3\n",
      "...layers\\batch_normalization_4\n",
      "......vars\n",
      ".........0\n",
      ".........1\n",
      ".........2\n",
      ".........3\n",
      "...layers\\batch_normalization_5\n",
      "......vars\n",
      ".........0\n",
      ".........1\n",
      ".........2\n",
      ".........3\n",
      "...layers\\batch_normalization_6\n",
      "......vars\n",
      ".........0\n",
      ".........1\n",
      ".........2\n",
      ".........3\n",
      "...layers\\batch_normalization_7\n",
      "......vars\n",
      ".........0\n",
      ".........1\n",
      ".........2\n",
      ".........3\n",
      "...layers\\conv2d\n",
      "......vars\n",
      ".........0\n",
      ".........1\n",
      "...layers\\conv2d_1\n",
      "......vars\n",
      ".........0\n",
      ".........1\n",
      "...layers\\conv2d_2\n",
      "......vars\n",
      ".........0\n",
      ".........1\n",
      "...layers\\conv2d_3\n",
      "......vars\n",
      ".........0\n",
      ".........1\n",
      "...layers\\conv2d_4\n",
      "......vars\n",
      ".........0\n",
      ".........1\n",
      "...layers\\conv2d_5\n",
      "......vars\n",
      ".........0\n",
      ".........1\n",
      "...layers\\conv2d_6\n",
      "......vars\n",
      ".........0\n",
      ".........1\n",
      "...layers\\conv2d_7\n",
      "......vars\n",
      ".........0\n",
      ".........1\n",
      "...layers\\dense\n",
      "......vars\n",
      ".........0\n",
      ".........1\n",
      "...layers\\dense_1\n",
      "......vars\n",
      ".........0\n",
      ".........1\n",
      "...layers\\dense_2\n",
      "......vars\n",
      ".........0\n",
      ".........1\n",
      "...layers\\dropout\n",
      "......vars\n",
      "...layers\\dropout_1\n",
      "......vars\n",
      "...layers\\dropout_2\n",
      "......vars\n",
      "...layers\\dropout_3\n",
      "......vars\n",
      "...layers\\dropout_4\n",
      "......vars\n",
      "...layers\\flatten\n",
      "......vars\n",
      "...layers\\max_pooling2d\n",
      "......vars\n",
      "...layers\\max_pooling2d_1\n",
      "......vars\n",
      "...layers\\max_pooling2d_2\n",
      "......vars\n",
      "...layers\\max_pooling2d_3\n",
      "......vars\n",
      "...metrics\\mean\n",
      "......vars\n",
      ".........0\n",
      ".........1\n",
      "...metrics\\mean_metric_wrapper\n",
      "......vars\n",
      ".........0\n",
      ".........1\n",
      "...optimizer\n",
      "......vars\n",
      ".........0\n",
      ".........1\n",
      ".........10\n",
      ".........11\n",
      ".........12\n",
      ".........13\n",
      ".........14\n",
      ".........15\n",
      ".........16\n",
      ".........17\n",
      ".........18\n",
      ".........19\n",
      ".........2\n",
      ".........20\n",
      ".........21\n",
      ".........22\n",
      ".........23\n",
      ".........24\n",
      ".........25\n",
      ".........26\n",
      ".........27\n",
      ".........28\n",
      ".........29\n",
      ".........3\n",
      ".........30\n",
      ".........31\n",
      ".........32\n",
      ".........33\n",
      ".........34\n",
      ".........35\n",
      ".........36\n",
      ".........37\n",
      ".........38\n",
      ".........39\n",
      ".........4\n",
      ".........40\n",
      ".........41\n",
      ".........42\n",
      ".........43\n",
      ".........44\n",
      ".........45\n",
      ".........46\n",
      ".........47\n",
      ".........48\n",
      ".........49\n",
      ".........5\n",
      ".........50\n",
      ".........51\n",
      ".........52\n",
      ".........53\n",
      ".........54\n",
      ".........55\n",
      ".........56\n",
      ".........57\n",
      ".........58\n",
      ".........59\n",
      ".........6\n",
      ".........60\n",
      ".........61\n",
      ".........62\n",
      ".........63\n",
      ".........64\n",
      ".........65\n",
      ".........66\n",
      ".........67\n",
      ".........68\n",
      ".........69\n",
      ".........7\n",
      ".........70\n",
      ".........71\n",
      ".........72\n",
      ".........73\n",
      ".........74\n",
      ".........75\n",
      ".........76\n",
      ".........8\n",
      ".........9\n",
      "...vars\n"
     ]
    }
   ],
   "source": [
    "import joblib \n",
    "\n",
    "model3 = joblib.load('models/Model3_trained_updated.pkl');"
   ]
  },
  {
   "cell_type": "code",
   "execution_count": 17,
   "id": "2fa38a30",
   "metadata": {},
   "outputs": [
    {
     "name": "stdout",
     "output_type": "stream",
     "text": [
      "328/328 [==============================] - 50s 151ms/step - loss: 1.6545 - accuracy: 0.4942\n"
     ]
    }
   ],
   "source": [
    "accuracy_test = model3.evaluate(X_test, t_test)"
   ]
  },
  {
   "cell_type": "code",
   "execution_count": 18,
   "id": "42a0214c",
   "metadata": {},
   "outputs": [
    {
     "name": "stdout",
     "output_type": "stream",
     "text": [
      "328/328 [==============================] - 63s 191ms/step\n"
     ]
    }
   ],
   "source": [
    "import matplotlib.pyplot as plt\n",
    "from sklearn.metrics import classification_report\n",
    "y_test = np.argmax(model3.predict(X_test), axis=1)"
   ]
  },
  {
   "cell_type": "code",
   "execution_count": 20,
   "id": "03e50de0",
   "metadata": {},
   "outputs": [
    {
     "ename": "TypeError",
     "evalue": "unsupported operand type(s) for +: 'int' and 'str'",
     "output_type": "error",
     "traceback": [
      "\u001b[1;31m---------------------------------------------------------------------------\u001b[0m",
      "\u001b[1;31mTypeError\u001b[0m                                 Traceback (most recent call last)",
      "\u001b[1;32m~\\AppData\\Local\\Temp\\ipykernel_22580\\2179988801.py\u001b[0m in \u001b[0;36m<module>\u001b[1;34m\u001b[0m\n\u001b[0;32m      5\u001b[0m \u001b[0mplt\u001b[0m\u001b[1;33m.\u001b[0m\u001b[0mxlabel\u001b[0m\u001b[1;33m(\u001b[0m\u001b[1;34m'Classes'\u001b[0m\u001b[1;33m,\u001b[0m\u001b[0msize\u001b[0m\u001b[1;33m=\u001b[0m\u001b[1;36m20\u001b[0m\u001b[1;33m)\u001b[0m\u001b[1;33m\u001b[0m\u001b[1;33m\u001b[0m\u001b[0m\n\u001b[0;32m      6\u001b[0m \u001b[0mplt\u001b[0m\u001b[1;33m.\u001b[0m\u001b[0mylabel\u001b[0m\u001b[1;33m(\u001b[0m\u001b[1;34m'#Samples per class'\u001b[0m\u001b[1;33m,\u001b[0m \u001b[0msize\u001b[0m\u001b[1;33m=\u001b[0m\u001b[1;36m20\u001b[0m\u001b[1;33m)\u001b[0m\u001b[1;33m\u001b[0m\u001b[1;33m\u001b[0m\u001b[0m\n\u001b[1;32m----> 7\u001b[1;33m \u001b[0mplt\u001b[0m\u001b[1;33m.\u001b[0m\u001b[0mtitle\u001b[0m\u001b[1;33m(\u001b[0m\u001b[1;34m'Test Data (Total = '\u001b[0m\u001b[1;33m+\u001b[0m\u001b[0mstr\u001b[0m\u001b[1;33m(\u001b[0m\u001b[0mX_test\u001b[0m\u001b[1;33m.\u001b[0m\u001b[0mshape\u001b[0m\u001b[1;33m[\u001b[0m\u001b[1;36m1\u001b[0m\u001b[1;33m]\u001b[0m\u001b[1;33m+\u001b[0m\u001b[1;34m' samples)'\u001b[0m\u001b[1;33m,\u001b[0m \u001b[0msize\u001b[0m\u001b[1;33m=\u001b[0m\u001b[1;36m15\u001b[0m\u001b[1;33m)\u001b[0m\u001b[1;33m)\u001b[0m\u001b[1;33m;\u001b[0m\u001b[1;33m\u001b[0m\u001b[1;33m\u001b[0m\u001b[0m\n\u001b[0m",
      "\u001b[1;31mTypeError\u001b[0m: unsupported operand type(s) for +: 'int' and 'str'"
     ]
    },
    {
     "data": {
      "image/png": "[encoded data removed]",
      "text/plain": [
       "<Figure size 640x480 with 1 Axes>"
      ]
     },
     "metadata": {},
     "output_type": "display_data"
    }
   ],
   "source": [
    "vals, counts = np.unique(y_test, return_counts=True)\n",
    "\n",
    "plt.bar(vals, counts)\n",
    "plt.xticks(range(28), range(28))\n",
    "plt.xlabel('Classes',size=20)\n",
    "plt.ylabel('#Samples per class', size=20)\n",
    "plt.title('Test Data (Total = '+str(X_test.shape[1]+' samples)', size=15));"
   ]
  },
  {
   "cell_type": "code",
   "execution_count": 21,
   "id": "3ab5e1e0",
   "metadata": {},
   "outputs": [
    {
     "data": {
      "text/plain": [
       "array([ 1,  3,  5, 11, 15, 16, 20, 23, 26, 27], dtype=int64)"
      ]
     },
     "execution_count": 21,
     "metadata": {},
     "output_type": "execute_result"
    }
   ],
   "source": [
    "np.unique(y_test)"
   ]
  },
  {
   "cell_type": "code",
   "execution_count": 29,
   "id": "d0f86dab",
   "metadata": {},
   "outputs": [
    {
     "name": "stdout",
     "output_type": "stream",
     "text": [
      "                 precision    recall  f1-score   support\n",
      "\n",
      "      Affection     0.0000    0.0000    0.0000       661\n",
      "          Anger     0.6003    0.3609    0.4508      1053\n",
      "      Annoyance     0.0000    0.0000    0.0000       203\n",
      "   Anticipation     0.8464    0.3491    0.4944      2194\n",
      "       Aversion     0.0000    0.0000    0.0000        11\n",
      "     Confidence     0.0000    0.0000    0.0000        72\n",
      "    Disapproval     0.0000    0.0000    0.0000        12\n",
      "  Disconnection     0.0000    0.0000    0.0000        30\n",
      "   Disquietment     0.0000    0.0000    0.0000         6\n",
      "Doubt/Confusion     0.0000    0.0000    0.0000         5\n",
      "  Embarrassment     0.0000    0.0000    0.0000         1\n",
      "     Engagement     0.0087    0.9545    0.0173        22\n",
      "         Esteem     0.0000    0.0000    0.0000         1\n",
      "     Excitement     0.0000    0.0000    0.0000         1\n",
      "        Fatigue     0.0000    0.0000    0.0000         1\n",
      "           Fear     0.4501    0.3916    0.4188      1024\n",
      "      Happiness     0.7976    0.8596    0.8275      1774\n",
      "           Pain     0.0000    0.0000    0.0000         0\n",
      "          Peace     0.0000    0.0000    0.0000         0\n",
      "       Pleasure     0.0000    0.0000    0.0000         0\n",
      "        Sadness     0.5154    0.4707    0.4920      1247\n",
      "    Sensitivity     0.0000    0.0000    0.0000         0\n",
      "      Suffering     0.0000    0.0000    0.0000         0\n",
      "       Surprise     0.8048    0.6895    0.7427       831\n",
      "       Sympathy     0.0000    0.0000    0.0000         0\n",
      "       Yearning     0.0000    0.0000    0.0000         0\n",
      "        Disgust     0.3178    0.3694    0.3417       111\n",
      "        Neutral     0.5062    0.7234    0.5957      1233\n",
      "\n",
      "      micro avg     0.4942    0.4942    0.4942     10493\n",
      "      macro avg     0.1731    0.1846    0.1565     10493\n",
      "   weighted avg     0.6038    0.4942    0.5203     10493\n",
      "\n"
     ]
    }
   ],
   "source": [
    "#print(classification_report(t_test, y_test, target_names=emotions_list))\n",
    "\n",
    "print(classification_report(t_test, y_test,labels=np.arange(0,len(emotions_list),1),\n",
    "                            target_names=emotions_list, digits=4,zero_division=0))"
   ]
  },
  {
   "cell_type": "code",
   "execution_count": 41,
   "id": "8911fa48",
   "metadata": {},
   "outputs": [
    {
     "data": {
      "text/plain": [
       "(5388, 48, 48, 3)"
      ]
     },
     "execution_count": 41,
     "metadata": {},
     "output_type": "execute_result"
    }
   ],
   "source": [
    "# Set directories \n",
    "#img_dir = \"imgs2/\"\n",
    "#num_imgs = len([name for name in os.listdir(img_dir) if os.path.isfile(os.path.join(img_dir, name))])\n",
    "#imgs = []\n",
    "#for image in os.listdir(img_dir):\n",
    "#    img = cv2.imread(os.path.join(img_dir, image))\n",
    "#    arr = cv2.resize(img, (48, 48), interpolation=cv2.INTER_CUBIC)\n",
    "    \n",
    "#    imgs.append(arr)\n",
    "#imgs = np.array(imgs).reshape(-1, 48, 48, 3)\n",
    "#imgs.shape"
   ]
  },
  {
   "cell_type": "code",
   "execution_count": 9,
   "id": "ff0a354e",
   "metadata": {},
   "outputs": [
    {
     "data": {
      "text/plain": [
       "(141, 48, 48, 3)"
      ]
     },
     "execution_count": 9,
     "metadata": {},
     "output_type": "execute_result"
    }
   ],
   "source": [
    "#imgs_rs = tf.keras.applications.mobilenet_v2.preprocess_input(imgs)\n",
    "#imgs_rs.shape"
   ]
  },
  {
   "cell_type": "code",
   "execution_count": 42,
   "id": "9afa8577",
   "metadata": {},
   "outputs": [
    {
     "name": "stdout",
     "output_type": "stream",
     "text": [
      "169/169 [==============================] - 35s 206ms/step\n"
     ]
    }
   ],
   "source": [
    "#y_imgs = np.argmax(model3.predict(imgs), axis=1)"
   ]
  },
  {
   "cell_type": "code",
   "execution_count": 43,
   "id": "6baae77a",
   "metadata": {},
   "outputs": [
    {
     "ename": "TypeError",
     "evalue": "unsupported operand type(s) for +: 'int' and 'str'",
     "output_type": "error",
     "traceback": [
      "\u001b[1;31m---------------------------------------------------------------------------\u001b[0m",
      "\u001b[1;31mTypeError\u001b[0m                                 Traceback (most recent call last)",
      "\u001b[1;32m~\\AppData\\Local\\Temp\\ipykernel_22580\\2750643541.py\u001b[0m in \u001b[0;36m<module>\u001b[1;34m\u001b[0m\n\u001b[0;32m      5\u001b[0m \u001b[0mplt\u001b[0m\u001b[1;33m.\u001b[0m\u001b[0mxlabel\u001b[0m\u001b[1;33m(\u001b[0m\u001b[1;34m'Classes'\u001b[0m\u001b[1;33m,\u001b[0m\u001b[0msize\u001b[0m\u001b[1;33m=\u001b[0m\u001b[1;36m20\u001b[0m\u001b[1;33m)\u001b[0m\u001b[1;33m\u001b[0m\u001b[1;33m\u001b[0m\u001b[0m\n\u001b[0;32m      6\u001b[0m \u001b[0mplt\u001b[0m\u001b[1;33m.\u001b[0m\u001b[0mylabel\u001b[0m\u001b[1;33m(\u001b[0m\u001b[1;34m'#Samples per class'\u001b[0m\u001b[1;33m,\u001b[0m \u001b[0msize\u001b[0m\u001b[1;33m=\u001b[0m\u001b[1;36m20\u001b[0m\u001b[1;33m)\u001b[0m\u001b[1;33m\u001b[0m\u001b[1;33m\u001b[0m\u001b[0m\n\u001b[1;32m----> 7\u001b[1;33m \u001b[0mplt\u001b[0m\u001b[1;33m.\u001b[0m\u001b[0mtitle\u001b[0m\u001b[1;33m(\u001b[0m\u001b[1;34m'Training Data (Total = '\u001b[0m\u001b[1;33m+\u001b[0m\u001b[0mstr\u001b[0m\u001b[1;33m(\u001b[0m\u001b[0mX_test\u001b[0m\u001b[1;33m.\u001b[0m\u001b[0mshape\u001b[0m\u001b[1;33m[\u001b[0m\u001b[1;36m1\u001b[0m\u001b[1;33m]\u001b[0m\u001b[1;33m+\u001b[0m\u001b[1;34m' samples)'\u001b[0m\u001b[1;33m,\u001b[0m \u001b[0msize\u001b[0m\u001b[1;33m=\u001b[0m\u001b[1;36m15\u001b[0m\u001b[1;33m)\u001b[0m\u001b[1;33m)\u001b[0m\u001b[1;33m;\u001b[0m\u001b[1;33m\u001b[0m\u001b[1;33m\u001b[0m\u001b[0m\n\u001b[0m",
      "\u001b[1;31mTypeError\u001b[0m: unsupported operand type(s) for +: 'int' and 'str'"
     ]
    },
    {
     "data": {
      "image/png": "[encoded data removed]",
      "text/plain": [
       "<Figure size 640x480 with 1 Axes>"
      ]
     },
     "metadata": {},
     "output_type": "display_data"
    }
   ],
   "source": [
    "#vals, counts = np.unique(y_imgs, return_counts=True)\n",
    "\n",
    "#plt.bar(vals, counts)\n",
    "#plt.xticks(range(28), range(28))\n",
    "#plt.xlabel('Classes',size=20)\n",
    "#plt.ylabel('#Samples per class', size=20)\n",
    "#plt.title('Training Data (Total = '+str(X_test.shape[1]+' samples)', size=15));"
   ]
  },
  {
   "cell_type": "code",
   "execution_count": null,
   "id": "1c700cd8",
   "metadata": {},
   "outputs": [],
   "source": [
    "#emo_predictions = []\n",
    "#for i in range(len(imgs)):\n",
    "#    print(\"item: \", i, y_imgs[i])\n",
    "    #plt.imshow(imgs[i])"
   ]
  },
  {
   "cell_type": "code",
   "execution_count": null,
   "id": "4860a84a",
   "metadata": {},
   "outputs": [],
   "source": [
    "#for image in os.listdir(img_dir):\n",
    "#    img = cv2.imread(os.path.join(img_dir, image))\n",
    "#    plt.imshow(img)"
   ]
  }
 ],
 "metadata": {
  "kernelspec": {
   "display_name": "Python 3 (ipykernel)",
   "language": "python",
   "name": "python3"
  },
  "language_info": {
   "codemirror_mode": {
    "name": "ipython",
    "version": 3
   },
   "file_extension": ".py",
   "mimetype": "text/x-python",
   "name": "python",
   "nbconvert_exporter": "python",
   "pygments_lexer": "ipython3",
   "version": "3.9.13"
  }
 },
 "nbformat": 4,
 "nbformat_minor": 5
}
